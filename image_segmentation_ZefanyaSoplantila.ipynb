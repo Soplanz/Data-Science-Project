{
 "cells": [
  {
   "cell_type": "code",
   "execution_count": 1,
   "id": "5d83a460",
   "metadata": {
    "_cell_guid": "b1076dfc-b9ad-4769-8c92-a6c4dae69d19",
    "_uuid": "8f2839f25d086af736a60e9eeb907d3b93b6e0e5",
    "execution": {
     "iopub.execute_input": "2023-06-05T08:10:45.068662Z",
     "iopub.status.busy": "2023-06-05T08:10:45.067783Z",
     "iopub.status.idle": "2023-06-05T08:10:45.480097Z",
     "shell.execute_reply": "2023-06-05T08:10:45.479166Z"
    },
    "papermill": {
     "duration": 0.421215,
     "end_time": "2023-06-05T08:10:45.482603",
     "exception": false,
     "start_time": "2023-06-05T08:10:45.061388",
     "status": "completed"
    },
    "tags": []
   },
   "outputs": [],
   "source": [
    "import numpy as np # linear algebra\n",
    "import pandas as pd # data processing, CSV file I/O (e.g. pd.read_csv)\n",
    "import cv2\n",
    "import os"
   ]
  },
  {
   "cell_type": "code",
   "execution_count": 2,
   "id": "64d420e9",
   "metadata": {
    "execution": {
     "iopub.execute_input": "2023-06-05T08:10:45.492998Z",
     "iopub.status.busy": "2023-06-05T08:10:45.492719Z",
     "iopub.status.idle": "2023-06-05T08:10:45.535961Z",
     "shell.execute_reply": "2023-06-05T08:10:45.534989Z"
    },
    "papermill": {
     "duration": 0.050561,
     "end_time": "2023-06-05T08:10:45.537950",
     "exception": false,
     "start_time": "2023-06-05T08:10:45.487389",
     "status": "completed"
    },
    "tags": []
   },
   "outputs": [
    {
     "data": {
      "text/html": [
       "<div>\n",
       "<style scoped>\n",
       "    .dataframe tbody tr th:only-of-type {\n",
       "        vertical-align: middle;\n",
       "    }\n",
       "\n",
       "    .dataframe tbody tr th {\n",
       "        vertical-align: top;\n",
       "    }\n",
       "\n",
       "    .dataframe thead th {\n",
       "        text-align: right;\n",
       "    }\n",
       "</style>\n",
       "<table border=\"1\" class=\"dataframe\">\n",
       "  <thead>\n",
       "    <tr style=\"text-align: right;\">\n",
       "      <th></th>\n",
       "      <th>Filename</th>\n",
       "      <th>Total</th>\n",
       "    </tr>\n",
       "  </thead>\n",
       "  <tbody>\n",
       "    <tr>\n",
       "      <th>0</th>\n",
       "      <td>000093681.jpg</td>\n",
       "      <td>37</td>\n",
       "    </tr>\n",
       "    <tr>\n",
       "      <th>1</th>\n",
       "      <td>000169578.jpg</td>\n",
       "      <td>50</td>\n",
       "    </tr>\n",
       "    <tr>\n",
       "      <th>2</th>\n",
       "      <td>000827954.jpg</td>\n",
       "      <td>35</td>\n",
       "    </tr>\n",
       "    <tr>\n",
       "      <th>3</th>\n",
       "      <td>001075659.jpg</td>\n",
       "      <td>45</td>\n",
       "    </tr>\n",
       "    <tr>\n",
       "      <th>4</th>\n",
       "      <td>001558425.jpg</td>\n",
       "      <td>53</td>\n",
       "    </tr>\n",
       "    <tr>\n",
       "      <th>...</th>\n",
       "      <td>...</td>\n",
       "      <td>...</td>\n",
       "    </tr>\n",
       "    <tr>\n",
       "      <th>4995</th>\n",
       "      <td>998695520.jpg</td>\n",
       "      <td>42</td>\n",
       "    </tr>\n",
       "    <tr>\n",
       "      <th>4996</th>\n",
       "      <td>998915603.jpg</td>\n",
       "      <td>34</td>\n",
       "    </tr>\n",
       "    <tr>\n",
       "      <th>4997</th>\n",
       "      <td>999615042.jpg</td>\n",
       "      <td>42</td>\n",
       "    </tr>\n",
       "    <tr>\n",
       "      <th>4998</th>\n",
       "      <td>999668496.jpg</td>\n",
       "      <td>46</td>\n",
       "    </tr>\n",
       "    <tr>\n",
       "      <th>4999</th>\n",
       "      <td>999717958.jpg</td>\n",
       "      <td>33</td>\n",
       "    </tr>\n",
       "  </tbody>\n",
       "</table>\n",
       "<p>5000 rows × 2 columns</p>\n",
       "</div>"
      ],
      "text/plain": [
       "           Filename  Total\n",
       "0     000093681.jpg     37\n",
       "1     000169578.jpg     50\n",
       "2     000827954.jpg     35\n",
       "3     001075659.jpg     45\n",
       "4     001558425.jpg     53\n",
       "...             ...    ...\n",
       "4995  998695520.jpg     42\n",
       "4996  998915603.jpg     34\n",
       "4997  999615042.jpg     42\n",
       "4998  999668496.jpg     46\n",
       "4999  999717958.jpg     33\n",
       "\n",
       "[5000 rows x 2 columns]"
      ]
     },
     "execution_count": 2,
     "metadata": {},
     "output_type": "execute_result"
    }
   ],
   "source": [
    "df_train = pd.read_csv('/kaggle/input/playing-card-value/train.csv')\n",
    "df_train"
   ]
  },
  {
   "cell_type": "code",
   "execution_count": 3,
   "id": "ff67d485",
   "metadata": {
    "execution": {
     "iopub.execute_input": "2023-06-05T08:10:45.549275Z",
     "iopub.status.busy": "2023-06-05T08:10:45.548422Z",
     "iopub.status.idle": "2023-06-05T08:10:45.556948Z",
     "shell.execute_reply": "2023-06-05T08:10:45.555972Z"
    },
    "papermill": {
     "duration": 0.016277,
     "end_time": "2023-06-05T08:10:45.558967",
     "exception": false,
     "start_time": "2023-06-05T08:10:45.542690",
     "status": "completed"
    },
    "tags": []
   },
   "outputs": [
    {
     "data": {
      "text/plain": [
       "86"
      ]
     },
     "execution_count": 3,
     "metadata": {},
     "output_type": "execute_result"
    }
   ],
   "source": [
    "df_train.Total.max()"
   ]
  },
  {
   "cell_type": "code",
   "execution_count": 4,
   "id": "9d5c8c03",
   "metadata": {
    "execution": {
     "iopub.execute_input": "2023-06-05T08:10:45.570181Z",
     "iopub.status.busy": "2023-06-05T08:10:45.569425Z",
     "iopub.status.idle": "2023-06-05T08:10:52.212327Z",
     "shell.execute_reply": "2023-06-05T08:10:52.211406Z"
    },
    "papermill": {
     "duration": 6.650904,
     "end_time": "2023-06-05T08:10:52.214752",
     "exception": false,
     "start_time": "2023-06-05T08:10:45.563848",
     "status": "completed"
    },
    "tags": []
   },
   "outputs": [],
   "source": [
    "import pandas as pd\n",
    "import torch\n",
    "from torch.utils.data import Dataset, DataLoader\n",
    "from torchvision import transforms\n",
    "from PIL import Image\n",
    "import torchvision.models as models\n",
    "\n",
    "\n",
    "class CustomActivation(torch.nn.Module):\n",
    "    def __init__(self, scale):\n",
    "        super(CustomActivation, self).__init__()\n",
    "        self.scale = scale\n",
    "\n",
    "    def forward(self, x):\n",
    "        return self.scale * torch.relu(x)\n",
    "\n",
    "    \n",
    "class CNNModel(torch.nn.Module):\n",
    "    def __init__(self):\n",
    "        super(CNNModel, self).__init__()\n",
    "        vgg16 = models.vgg16()\n",
    "        self.features = vgg16.features\n",
    "        self.conv1 = torch.nn.Conv2d(512, 16, kernel_size=4, stride=1, padding=1)\n",
    "        self.conv2 = torch.nn.Conv2d(16, 32, kernel_size=3, stride=1, padding=1)\n",
    "        self.fc1 = torch.nn.Linear(32, 64)\n",
    "        self.fc2 = torch.nn.Linear(64, 1) \n",
    "        self.activation = CustomActivation(100)\n",
    "\n",
    "    def forward(self, x):\n",
    "        x = self.features(x)\n",
    "        x = torch.nn.functional.relu(self.conv1(x))\n",
    "        x = torch.nn.functional.max_pool2d(x, 2)\n",
    "        x = torch.nn.functional.relu(self.conv2(x))\n",
    "        x = torch.nn.functional.max_pool2d(x, 2)\n",
    "        x = x.view(x.size(0), -1)\n",
    "        x = torch.nn.functional.relu(self.fc1(x))\n",
    "        x = self.activation(self.fc2(x))\n",
    "        return x\n",
    "    \n",
    "    \n",
    "class CustomDataset(Dataset):\n",
    "    def __init__(self, dataframe, directory, transform=None):\n",
    "        self.dataframe = dataframe\n",
    "        self.directory = directory\n",
    "        self.transform = transform\n",
    "\n",
    "    def __len__(self):\n",
    "        return len(self.dataframe)\n",
    "\n",
    "    def __getitem__(self, idx):\n",
    "        image_path = self.directory + '/' + self.dataframe['Filename'].iloc[idx]\n",
    "        image = Image.open(image_path).convert('RGB')\n",
    "        label = self.dataframe['Total'].iloc[idx]\n",
    "        \n",
    "        if self.transform:\n",
    "            image = self.transform(image)\n",
    "            \n",
    "        return image, label"
   ]
  },
  {
   "cell_type": "code",
   "execution_count": 5,
   "id": "4a268f29",
   "metadata": {
    "execution": {
     "iopub.execute_input": "2023-06-05T08:10:52.227234Z",
     "iopub.status.busy": "2023-06-05T08:10:52.225594Z",
     "iopub.status.idle": "2023-06-05T08:10:52.246127Z",
     "shell.execute_reply": "2023-06-05T08:10:52.245280Z"
    },
    "papermill": {
     "duration": 0.028325,
     "end_time": "2023-06-05T08:10:52.248143",
     "exception": false,
     "start_time": "2023-06-05T08:10:52.219818",
     "status": "completed"
    },
    "tags": []
   },
   "outputs": [],
   "source": [
    "from torchvision import transforms\n",
    "\n",
    "dataset = pd.read_csv('/kaggle/input/playing-card-value/train.csv')\n",
    "image_directory = '/kaggle/input/playing-card-value/train/train'\n",
    "\n",
    "image_transforms = transforms.Compose([\n",
    "    transforms.Resize((224, 224), interpolation=Image.BILINEAR),\n",
    "    transforms.ToTensor(),\n",
    "    transforms.Normalize(mean=[0.485, 0.456, 0.406], std=[0.229, 0.224, 0.225])\n",
    "])\n",
    "custom_dataset = CustomDataset(dataset, image_directory, transform=image_transforms)"
   ]
  },
  {
   "cell_type": "code",
   "execution_count": 6,
   "id": "cac0035d",
   "metadata": {
    "execution": {
     "iopub.execute_input": "2023-06-05T08:10:52.258786Z",
     "iopub.status.busy": "2023-06-05T08:10:52.258498Z",
     "iopub.status.idle": "2023-06-05T08:10:52.359662Z",
     "shell.execute_reply": "2023-06-05T08:10:52.358659Z"
    },
    "papermill": {
     "duration": 0.10889,
     "end_time": "2023-06-05T08:10:52.361812",
     "exception": false,
     "start_time": "2023-06-05T08:10:52.252922",
     "status": "completed"
    },
    "tags": []
   },
   "outputs": [
    {
     "data": {
      "text/plain": [
       "device(type='cuda')"
      ]
     },
     "execution_count": 6,
     "metadata": {},
     "output_type": "execute_result"
    }
   ],
   "source": [
    "device = torch.device(\"cuda\" if torch.cuda.is_available() else \"cpu\")\n",
    "device"
   ]
  },
  {
   "cell_type": "code",
   "execution_count": 7,
   "id": "790b4f0f",
   "metadata": {
    "execution": {
     "iopub.execute_input": "2023-06-05T08:10:52.373207Z",
     "iopub.status.busy": "2023-06-05T08:10:52.372637Z",
     "iopub.status.idle": "2023-06-05T08:10:52.416743Z",
     "shell.execute_reply": "2023-06-05T08:10:52.415906Z"
    },
    "papermill": {
     "duration": 0.05202,
     "end_time": "2023-06-05T08:10:52.418886",
     "exception": false,
     "start_time": "2023-06-05T08:10:52.366866",
     "status": "completed"
    },
    "tags": []
   },
   "outputs": [],
   "source": [
    "train_size = int(0.8 * len(custom_dataset))\n",
    "val_size = len(custom_dataset) - train_size\n",
    "train_dataset, val_dataset = torch.utils.data.random_split(custom_dataset, [train_size, val_size])\n",
    "\n",
    "batch_size = 32\n",
    "train_loader = DataLoader(train_dataset, batch_size=batch_size, shuffle=True)\n",
    "val_loader = DataLoader(val_dataset, batch_size=batch_size)"
   ]
  },
  {
   "cell_type": "code",
   "execution_count": 8,
   "id": "7d9ba3dc",
   "metadata": {
    "execution": {
     "iopub.execute_input": "2023-06-05T08:10:52.429812Z",
     "iopub.status.busy": "2023-06-05T08:10:52.429538Z",
     "iopub.status.idle": "2023-06-05T08:11:10.709316Z",
     "shell.execute_reply": "2023-06-05T08:11:10.708335Z"
    },
    "papermill": {
     "duration": 18.287892,
     "end_time": "2023-06-05T08:11:10.711753",
     "exception": false,
     "start_time": "2023-06-05T08:10:52.423861",
     "status": "completed"
    },
    "tags": []
   },
   "outputs": [
    {
     "name": "stderr",
     "output_type": "stream",
     "text": [
      "/opt/conda/lib/python3.10/site-packages/tensorflow_io/python/ops/__init__.py:98: UserWarning: unable to load libtensorflow_io_plugins.so: unable to open file: libtensorflow_io_plugins.so, from paths: ['/opt/conda/lib/python3.10/site-packages/tensorflow_io/python/ops/libtensorflow_io_plugins.so']\n",
      "caused by: ['/opt/conda/lib/python3.10/site-packages/tensorflow_io/python/ops/libtensorflow_io_plugins.so: undefined symbol: _ZN3tsl6StatusC1EN10tensorflow5error4CodeESt17basic_string_viewIcSt11char_traitsIcEENS_14SourceLocationE']\n",
      "  warnings.warn(f\"unable to load libtensorflow_io_plugins.so: {e}\")\n",
      "/opt/conda/lib/python3.10/site-packages/tensorflow_io/python/ops/__init__.py:104: UserWarning: file system plugins are not loaded: unable to open file: libtensorflow_io.so, from paths: ['/opt/conda/lib/python3.10/site-packages/tensorflow_io/python/ops/libtensorflow_io.so']\n",
      "caused by: ['/opt/conda/lib/python3.10/site-packages/tensorflow_io/python/ops/libtensorflow_io.so: undefined symbol: _ZTVN10tensorflow13GcsFileSystemE']\n",
      "  warnings.warn(f\"file system plugins are not loaded: {e}\")\n"
     ]
    }
   ],
   "source": [
    "import torch.optim as optim\n",
    "from transformers import get_linear_schedule_with_warmup\n",
    "\n",
    "model = CNNModel()\n",
    "criterion = torch.nn.MSELoss()\n",
    "optimizer = optim.AdamW(model.parameters(), lr=0.0005)\n",
    "num_epochs = 50\n",
    "total_steps = len(train_loader) * num_epochs\n",
    "warmup_steps = int(0.1 * total_steps)\n",
    "scheduler = get_linear_schedule_with_warmup(\n",
    "    optimizer, \n",
    "    num_warmup_steps=warmup_steps, \n",
    "    num_training_steps=total_steps\n",
    ")"
   ]
  },
  {
   "cell_type": "code",
   "execution_count": 9,
   "id": "c2878703",
   "metadata": {
    "execution": {
     "iopub.execute_input": "2023-06-05T08:11:10.725458Z",
     "iopub.status.busy": "2023-06-05T08:11:10.723670Z",
     "iopub.status.idle": "2023-06-05T10:01:22.330758Z",
     "shell.execute_reply": "2023-06-05T10:01:22.329744Z"
    },
    "papermill": {
     "duration": 6611.623955,
     "end_time": "2023-06-05T10:01:22.341151",
     "exception": false,
     "start_time": "2023-06-05T08:11:10.717196",
     "status": "completed"
    },
    "tags": []
   },
   "outputs": [
    {
     "name": "stdout",
     "output_type": "stream",
     "text": [
      "Epoch [1/50], Train Loss: 2345.8700, Train RMSE: 48.4342, Val Loss: 2344.0590, Val RMSE: 48.4155\n",
      "Epoch [2/50], Train Loss: 2345.8700, Train RMSE: 48.4342, Val Loss: 2344.0590, Val RMSE: 48.4155\n",
      "Epoch [3/50], Train Loss: 2345.8700, Train RMSE: 48.4342, Val Loss: 2344.0590, Val RMSE: 48.4155\n",
      "Epoch [4/50], Train Loss: 2345.8700, Train RMSE: 48.4342, Val Loss: 2344.0590, Val RMSE: 48.4155\n",
      "Epoch [5/50], Train Loss: 2345.8700, Train RMSE: 48.4342, Val Loss: 2344.0590, Val RMSE: 48.4155\n",
      "Epoch [6/50], Train Loss: 2345.8700, Train RMSE: 48.4342, Val Loss: 2344.0590, Val RMSE: 48.4155\n",
      "Epoch [7/50], Train Loss: 2345.8700, Train RMSE: 48.4342, Val Loss: 2344.0590, Val RMSE: 48.4155\n",
      "Epoch [8/50], Train Loss: 2345.8700, Train RMSE: 48.4342, Val Loss: 2344.0590, Val RMSE: 48.4155\n",
      "Epoch [9/50], Train Loss: 2345.8700, Train RMSE: 48.4342, Val Loss: 2344.0590, Val RMSE: 48.4155\n",
      "Epoch [10/50], Train Loss: 2345.8700, Train RMSE: 48.4342, Val Loss: 2344.0590, Val RMSE: 48.4155\n",
      "Epoch [11/50], Train Loss: 2345.8700, Train RMSE: 48.4342, Val Loss: 2344.0590, Val RMSE: 48.4155\n",
      "Epoch [12/50], Train Loss: 2345.8700, Train RMSE: 48.4342, Val Loss: 2344.0590, Val RMSE: 48.4155\n",
      "Epoch [13/50], Train Loss: 2345.8700, Train RMSE: 48.4342, Val Loss: 2344.0590, Val RMSE: 48.4155\n",
      "Epoch [14/50], Train Loss: 2345.8700, Train RMSE: 48.4342, Val Loss: 2344.0590, Val RMSE: 48.4155\n",
      "Epoch [15/50], Train Loss: 2345.8700, Train RMSE: 48.4342, Val Loss: 2344.0590, Val RMSE: 48.4155\n",
      "Epoch [16/50], Train Loss: 2345.8700, Train RMSE: 48.4342, Val Loss: 2344.0590, Val RMSE: 48.4155\n",
      "Epoch [17/50], Train Loss: 2345.8700, Train RMSE: 48.4342, Val Loss: 2344.0590, Val RMSE: 48.4155\n",
      "Epoch [18/50], Train Loss: 2345.8700, Train RMSE: 48.4342, Val Loss: 2344.0590, Val RMSE: 48.4155\n",
      "Epoch [19/50], Train Loss: 2345.8700, Train RMSE: 48.4342, Val Loss: 2344.0590, Val RMSE: 48.4155\n",
      "Epoch [20/50], Train Loss: 2345.8700, Train RMSE: 48.4342, Val Loss: 2344.0590, Val RMSE: 48.4155\n",
      "Epoch [21/50], Train Loss: 2345.8700, Train RMSE: 48.4342, Val Loss: 2344.0590, Val RMSE: 48.4155\n",
      "Epoch [22/50], Train Loss: 2345.8700, Train RMSE: 48.4342, Val Loss: 2344.0590, Val RMSE: 48.4155\n",
      "Epoch [23/50], Train Loss: 2345.8700, Train RMSE: 48.4342, Val Loss: 2344.0590, Val RMSE: 48.4155\n",
      "Epoch [24/50], Train Loss: 2345.8700, Train RMSE: 48.4342, Val Loss: 2344.0590, Val RMSE: 48.4155\n",
      "Epoch [25/50], Train Loss: 2345.8700, Train RMSE: 48.4342, Val Loss: 2344.0590, Val RMSE: 48.4155\n",
      "Epoch [26/50], Train Loss: 2345.8700, Train RMSE: 48.4342, Val Loss: 2344.0590, Val RMSE: 48.4155\n",
      "Epoch [27/50], Train Loss: 2345.8700, Train RMSE: 48.4342, Val Loss: 2344.0590, Val RMSE: 48.4155\n",
      "Epoch [28/50], Train Loss: 2345.8700, Train RMSE: 48.4342, Val Loss: 2344.0590, Val RMSE: 48.4155\n",
      "Epoch [29/50], Train Loss: 2345.8700, Train RMSE: 48.4342, Val Loss: 2344.0590, Val RMSE: 48.4155\n",
      "Epoch [30/50], Train Loss: 2345.8700, Train RMSE: 48.4342, Val Loss: 2344.0590, Val RMSE: 48.4155\n",
      "Epoch [31/50], Train Loss: 2345.8700, Train RMSE: 48.4342, Val Loss: 2344.0590, Val RMSE: 48.4155\n",
      "Epoch [32/50], Train Loss: 2345.8700, Train RMSE: 48.4342, Val Loss: 2344.0590, Val RMSE: 48.4155\n",
      "Epoch [33/50], Train Loss: 2345.8700, Train RMSE: 48.4342, Val Loss: 2344.0590, Val RMSE: 48.4155\n",
      "Epoch [34/50], Train Loss: 2345.8700, Train RMSE: 48.4342, Val Loss: 2344.0590, Val RMSE: 48.4155\n",
      "Epoch [35/50], Train Loss: 2345.8700, Train RMSE: 48.4342, Val Loss: 2344.0590, Val RMSE: 48.4155\n",
      "Epoch [36/50], Train Loss: 2345.8700, Train RMSE: 48.4342, Val Loss: 2344.0590, Val RMSE: 48.4155\n",
      "Epoch [37/50], Train Loss: 2345.8700, Train RMSE: 48.4342, Val Loss: 2344.0590, Val RMSE: 48.4155\n",
      "Epoch [38/50], Train Loss: 2345.8700, Train RMSE: 48.4342, Val Loss: 2344.0590, Val RMSE: 48.4155\n",
      "Epoch [39/50], Train Loss: 2345.8700, Train RMSE: 48.4342, Val Loss: 2344.0590, Val RMSE: 48.4155\n",
      "Epoch [40/50], Train Loss: 2345.8700, Train RMSE: 48.4342, Val Loss: 2344.0590, Val RMSE: 48.4155\n",
      "Epoch [41/50], Train Loss: 2345.8700, Train RMSE: 48.4342, Val Loss: 2344.0590, Val RMSE: 48.4155\n",
      "Epoch [42/50], Train Loss: 2345.8700, Train RMSE: 48.4342, Val Loss: 2344.0590, Val RMSE: 48.4155\n",
      "Epoch [43/50], Train Loss: 2345.8700, Train RMSE: 48.4342, Val Loss: 2344.0590, Val RMSE: 48.4155\n",
      "Epoch [44/50], Train Loss: 2345.8700, Train RMSE: 48.4342, Val Loss: 2344.0590, Val RMSE: 48.4155\n",
      "Epoch [45/50], Train Loss: 2345.8700, Train RMSE: 48.4342, Val Loss: 2344.0590, Val RMSE: 48.4155\n",
      "Epoch [46/50], Train Loss: 2345.8700, Train RMSE: 48.4342, Val Loss: 2344.0590, Val RMSE: 48.4155\n",
      "Epoch [47/50], Train Loss: 2345.8700, Train RMSE: 48.4342, Val Loss: 2344.0590, Val RMSE: 48.4155\n",
      "Epoch [48/50], Train Loss: 2345.8700, Train RMSE: 48.4342, Val Loss: 2344.0590, Val RMSE: 48.4155\n",
      "Epoch [49/50], Train Loss: 2345.8700, Train RMSE: 48.4342, Val Loss: 2344.0590, Val RMSE: 48.4155\n",
      "Epoch [50/50], Train Loss: 2345.8700, Train RMSE: 48.4342, Val Loss: 2344.0590, Val RMSE: 48.4155\n"
     ]
    }
   ],
   "source": [
    "import math\n",
    "\n",
    "model = model.to(device)\n",
    "criterion = criterion.to(device)\n",
    "\n",
    "for epoch in range(num_epochs):\n",
    "    model.train()\n",
    "    train_loss = 0.0\n",
    "    for X_batch, y_batch in train_loader:\n",
    "        optimizer.zero_grad()\n",
    "        X_batch = X_batch.to(device)\n",
    "        y_batch = y_batch.to(device)\n",
    "        outputs = model(X_batch)\n",
    "        loss = criterion(outputs, y_batch.unsqueeze(1).float())\n",
    "        loss.backward()\n",
    "        optimizer.step()\n",
    "        scheduler.step() #Coba diilangin\n",
    "        train_loss += loss.item() * X_batch.size(0)\n",
    "    train_loss /= len(train_dataset)\n",
    "    \n",
    "    model.eval()\n",
    "    val_loss = 0.0\n",
    "    with torch.no_grad():\n",
    "        for X_batch, y_batch in val_loader:\n",
    "            X_batch = X_batch.to(device)\n",
    "            y_batch = y_batch.to(device)\n",
    "            outputs = model(X_batch)\n",
    "            loss = criterion(outputs, y_batch.unsqueeze(1).float())\n",
    "            val_loss += loss.item() * X_batch.size(0)\n",
    "    val_loss /= len(val_dataset)\n",
    "    \n",
    "    train_rmse = math.sqrt(train_loss)\n",
    "    val_rmse = math.sqrt(val_loss)\n",
    "    \n",
    "    print(f\"Epoch [{epoch+1}/{num_epochs}], Train Loss: {train_loss:.4f}, Train RMSE: {train_rmse:.4f}, Val Loss: {val_loss:.4f}, Val RMSE: {val_rmse:.4f}\")"
   ]
  },
  {
   "cell_type": "code",
   "execution_count": 10,
   "id": "3b7c314d",
   "metadata": {
    "execution": {
     "iopub.execute_input": "2023-06-05T10:01:22.359750Z",
     "iopub.status.busy": "2023-06-05T10:01:22.359413Z",
     "iopub.status.idle": "2023-06-05T10:01:22.466312Z",
     "shell.execute_reply": "2023-06-05T10:01:22.465324Z"
    },
    "papermill": {
     "duration": 0.118984,
     "end_time": "2023-06-05T10:01:22.468690",
     "exception": false,
     "start_time": "2023-06-05T10:01:22.349706",
     "status": "completed"
    },
    "tags": []
   },
   "outputs": [],
   "source": [
    "torch.save(model.state_dict(), '/kaggle/working/model_new7.pth')"
   ]
  },
  {
   "cell_type": "code",
   "execution_count": 11,
   "id": "6ea0ee21",
   "metadata": {
    "execution": {
     "iopub.execute_input": "2023-06-05T10:01:22.487810Z",
     "iopub.status.busy": "2023-06-05T10:01:22.487525Z",
     "iopub.status.idle": "2023-06-05T10:01:22.557165Z",
     "shell.execute_reply": "2023-06-05T10:01:22.556138Z"
    },
    "papermill": {
     "duration": 0.081714,
     "end_time": "2023-06-05T10:01:22.559330",
     "exception": false,
     "start_time": "2023-06-05T10:01:22.477616",
     "status": "completed"
    },
    "tags": []
   },
   "outputs": [
    {
     "data": {
      "text/plain": [
       "{'Filename': '/kaggle/input/playing-card-value/test/test/003212838.jpg',\n",
       " 'PredictedValue': 0.0}"
      ]
     },
     "execution_count": 11,
     "metadata": {},
     "output_type": "execute_result"
    }
   ],
   "source": [
    "from torchvision import transforms\n",
    "from PIL import Image\n",
    "\n",
    "image_path = \"/kaggle/input/playing-card-value/test/test/003212838.jpg\"\n",
    "image_transforms = transforms.Compose([\n",
    "    transforms.Resize((224, 224)),\n",
    "    transforms.ToTensor(),\n",
    "    transforms.Normalize(mean=[0.485, 0.456, 0.406], std=[0.229, 0.224, 0.225])\n",
    "])\n",
    "image = Image.open(image_path).convert('RGB')\n",
    "image = image_transforms(image)\n",
    "\n",
    "output = model(image.unsqueeze(0).to(device))  \n",
    "predicted_value = output.item()\n",
    "\n",
    "prediction_data = {'Filename': image_path, 'PredictedValue': predicted_value}\n",
    "prediction_data"
   ]
  },
  {
   "cell_type": "code",
   "execution_count": 12,
   "id": "e322aeb3",
   "metadata": {
    "execution": {
     "iopub.execute_input": "2023-06-05T10:01:22.579999Z",
     "iopub.status.busy": "2023-06-05T10:01:22.578616Z",
     "iopub.status.idle": "2023-06-05T10:01:22.586035Z",
     "shell.execute_reply": "2023-06-05T10:01:22.585224Z"
    },
    "papermill": {
     "duration": 0.019718,
     "end_time": "2023-06-05T10:01:22.588171",
     "exception": false,
     "start_time": "2023-06-05T10:01:22.568453",
     "status": "completed"
    },
    "tags": []
   },
   "outputs": [],
   "source": [
    "def predict_image_reg(path):\n",
    "    global model\n",
    "    image_path = dirname+'/'+filename\n",
    "    image_transforms = transforms.Compose([\n",
    "        transforms.Resize((224, 224)),\n",
    "        transforms.ToTensor(),\n",
    "        transforms.Normalize(mean=[0.485, 0.456, 0.406], std=[0.229, 0.224, 0.225])\n",
    "    ])\n",
    "    image = Image.open(image_path).convert('RGB')\n",
    "    image = image_transforms(image)\n",
    "\n",
    "    output = model(image.unsqueeze(0).to(device))  \n",
    "    predicted_value = output.item()\n",
    "    \n",
    "    return predicted_value"
   ]
  },
  {
   "cell_type": "code",
   "execution_count": 13,
   "id": "674c0e29",
   "metadata": {
    "execution": {
     "iopub.execute_input": "2023-06-05T10:01:22.607968Z",
     "iopub.status.busy": "2023-06-05T10:01:22.606631Z",
     "iopub.status.idle": "2023-06-05T10:01:58.848548Z",
     "shell.execute_reply": "2023-06-05T10:01:58.847553Z"
    },
    "papermill": {
     "duration": 36.2539,
     "end_time": "2023-06-05T10:01:58.851032",
     "exception": false,
     "start_time": "2023-06-05T10:01:22.597132",
     "status": "completed"
    },
    "tags": []
   },
   "outputs": [],
   "source": [
    "pred_data = {\n",
    "    'Filename':[],\n",
    "    'Total':[]\n",
    "}\n",
    "\n",
    "for dirname, _, filenames in os.walk('/kaggle/input'):\n",
    "    if dirname == '/kaggle/input/playing-card-value/test/test':\n",
    "        filenames = sorted(filenames)\n",
    "        for filename in filenames:\n",
    "\n",
    "            curr_path = os.path.join(dirname, filename)\n",
    "            pred_data['Filename'].append(filename)\n",
    "            pred_data['Total'].append(predict_image_reg(curr_path))"
   ]
  },
  {
   "cell_type": "code",
   "execution_count": 14,
   "id": "f3738e7a",
   "metadata": {
    "execution": {
     "iopub.execute_input": "2023-06-05T10:01:58.875254Z",
     "iopub.status.busy": "2023-06-05T10:01:58.874255Z",
     "iopub.status.idle": "2023-06-05T10:01:58.902564Z",
     "shell.execute_reply": "2023-06-05T10:01:58.901272Z"
    },
    "papermill": {
     "duration": 0.044337,
     "end_time": "2023-06-05T10:01:58.905194",
     "exception": false,
     "start_time": "2023-06-05T10:01:58.860857",
     "status": "completed"
    },
    "tags": []
   },
   "outputs": [],
   "source": [
    "result_df = pd.DataFrame(pred_data)\n",
    "result_df[['Filename', 'Total']].to_csv('result_image_new7.csv', index=False)"
   ]
  },
  {
   "cell_type": "code",
   "execution_count": null,
   "id": "11505704",
   "metadata": {
    "papermill": {
     "duration": 0.008488,
     "end_time": "2023-06-05T10:01:58.923409",
     "exception": false,
     "start_time": "2023-06-05T10:01:58.914921",
     "status": "completed"
    },
    "tags": []
   },
   "outputs": [],
   "source": []
  }
 ],
 "metadata": {
  "kernelspec": {
   "display_name": "Python 3",
   "language": "python",
   "name": "python3"
  },
  "language_info": {
   "codemirror_mode": {
    "name": "ipython",
    "version": 3
   },
   "file_extension": ".py",
   "mimetype": "text/x-python",
   "name": "python",
   "nbconvert_exporter": "python",
   "pygments_lexer": "ipython3",
   "version": "3.10.10"
  },
  "papermill": {
   "default_parameters": {},
   "duration": 6692.624271,
   "end_time": "2023-06-05T10:02:02.650025",
   "environment_variables": {},
   "exception": null,
   "input_path": "__notebook__.ipynb",
   "output_path": "__notebook__.ipynb",
   "parameters": {},
   "start_time": "2023-06-05T08:10:30.025754",
   "version": "2.4.0"
  }
 },
 "nbformat": 4,
 "nbformat_minor": 5
}
